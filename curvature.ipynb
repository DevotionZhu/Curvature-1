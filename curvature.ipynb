{
 "cells": [
  {
   "cell_type": "code",
   "execution_count": 1,
   "metadata": {
    "collapsed": true
   },
   "outputs": [],
   "source": [
    "import numpy as np\n"
   ]
  },
  {
   "cell_type": "code",
   "execution_count": 53,
   "metadata": {},
   "outputs": [
    {
     "data": {
      "text/plain": [
       "array([1, 0, 0, 0, 0])"
      ]
     },
     "execution_count": 53,
     "metadata": {},
     "output_type": "execute_result"
    }
   ],
   "source": [
    "data = [[[1,0,0,0,0],[0,1,0,0,0],[0,0,1,0,0]],\n",
    "        [[0,1,0,0,0],[0,0,1,0,0],[0,1,0,0,0]],          \n",
    "        [[0,0,1,0,0],[0,1,0,0,0],[1,0,0,0,0]]\n",
    "       ]\n",
    "\n",
    "data = np.array(data)\n",
    "data[0,0]\n"
   ]
  },
  {
   "cell_type": "code",
   "execution_count": 58,
   "metadata": {},
   "outputs": [
    {
     "data": {
      "text/plain": [
       "array([[ 2.,  1.,  0.],\n",
       "       [ 1.,  0.,  1.],\n",
       "       [ 0.,  1.,  2.]])"
      ]
     },
     "execution_count": 58,
     "metadata": {},
     "output_type": "execute_result"
    }
   ],
   "source": [
    "\n",
    "plane=np.zeros((3,3))\n",
    "for x in range(0,3):\n",
    "    for y in range(0,3):\n",
    "        #convd =np.append(convd, np.convolve(data[x,y],data[1,1]))\n",
    "        #convd.append(np.convolve(data[x,y],data[1,1]))\n",
    "        convd=np.convolve(data[x,y],data[1,1],mode='same')\n",
    "        plane[x,y]= 2-np.argmax(convd)\n",
    "        #print(convd)\n",
    "        #print(np.argmax(convd)-2)\n",
    "\n",
    "plane\n"
   ]
  },
  {
   "cell_type": "code",
   "execution_count": 31,
   "metadata": {
    "collapsed": true
   },
   "outputs": [],
   "source": [
    "np.convolve?\n"
   ]
  },
  {
   "cell_type": "code",
   "execution_count": 44,
   "metadata": {},
   "outputs": [
    {
     "data": {
      "text/plain": [
       "array([[ 0.,  0.,  0.],\n",
       "       [ 0.,  0.,  0.],\n",
       "       [ 0.,  0.,  0.]])"
      ]
     },
     "execution_count": 44,
     "metadata": {},
     "output_type": "execute_result"
    }
   ],
   "source": [
    "plane=np.zeros((3,3))\n",
    "plane               "
   ]
  },
  {
   "cell_type": "code",
   "execution_count": 59,
   "metadata": {
    "collapsed": true
   },
   "outputs": [],
   "source": [
    "Z=plane\n"
   ]
  },
  {
   "cell_type": "code",
   "execution_count": 60,
   "metadata": {},
   "outputs": [
    {
     "data": {
      "text/plain": [
       "array([[ 2.,  1.,  0.],\n",
       "       [ 1.,  0.,  1.],\n",
       "       [ 0.,  1.,  2.]])"
      ]
     },
     "execution_count": 60,
     "metadata": {},
     "output_type": "execute_result"
    }
   ],
   "source": [
    "Z\n"
   ]
  },
  {
   "cell_type": "code",
   "execution_count": 61,
   "metadata": {},
   "outputs": [
    {
     "name": "stdout",
     "output_type": "stream",
     "text": [
      "[[-1. -1.  1.]\n",
      " [-1.  0.  1.]\n",
      " [-1.  1.  1.]] [[-1. -1. -1.]\n",
      " [-1.  0.  1.]\n",
      " [ 1.  1.  1.]]\n"
     ]
    },
    {
     "data": {
      "text/plain": [
       "array([[ 0.        , -0.11111111, -0.44444444],\n",
       "       [-0.11111111,  0.        , -0.11111111],\n",
       "       [-0.44444444, -0.11111111,  0.        ]])"
      ]
     },
     "execution_count": 61,
     "metadata": {},
     "output_type": "execute_result"
    }
   ],
   "source": [
    "def gaussian_curvature(Z):\n",
    "    Zy, Zx = np.gradient(Z)\n",
    "    print(Zy,Zx)\n",
    "    Zxy, Zxx = np.gradient(Zx)                                                  \n",
    "    Zyy, _ = np.gradient(Zy)                                                    \n",
    "    K = (Zxx * Zyy - (Zxy ** 2)) /  (1 + (Zx ** 2) + (Zy **2)) ** 2             \n",
    "    return K\n",
    "\n",
    "K = gaussian_curvature(Z)\n",
    "K"
   ]
  },
  {
   "cell_type": "code",
   "execution_count": 51,
   "metadata": {},
   "outputs": [
    {
     "data": {
      "text/plain": [
       "array([[ 0.,  0.,  0.],\n",
       "       [ 0.,  0.,  0.],\n",
       "       [ 0.,  0.,  0.]])"
      ]
     },
     "execution_count": 51,
     "metadata": {},
     "output_type": "execute_result"
    }
   ],
   "source": [
    "K\n"
   ]
  },
  {
   "cell_type": "code",
   "execution_count": null,
   "metadata": {
    "collapsed": true
   },
   "outputs": [],
   "source": [
    "for x = "
   ]
  }
 ],
 "metadata": {
  "anaconda-cloud": {},
  "kernelspec": {
   "display_name": "Python [default]",
   "language": "python",
   "name": "python3"
  },
  "language_info": {
   "codemirror_mode": {
    "name": "ipython",
    "version": 3
   },
   "file_extension": ".py",
   "mimetype": "text/x-python",
   "name": "python",
   "nbconvert_exporter": "python",
   "pygments_lexer": "ipython3",
   "version": "3.5.2"
  }
 },
 "nbformat": 4,
 "nbformat_minor": 2
}
