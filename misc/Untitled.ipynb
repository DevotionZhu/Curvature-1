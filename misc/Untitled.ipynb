{
 "cells": [
  {
   "cell_type": "code",
   "execution_count": 2,
   "metadata": {
    "collapsed": true
   },
   "outputs": [],
   "source": [
    "import h5py\n",
    "import matplotlib.pyplot as plt\n",
    "import numpy as np\n",
    "import scipy.linalg\n",
    "import time\n",
    "import dask.array as da\n",
    "\n"
   ]
  },
  {
   "cell_type": "code",
   "execution_count": 6,
   "metadata": {},
   "outputs": [
    {
     "name": "stdout",
     "output_type": "stream",
     "text": [
      "c:/data/test.MIG.0.h5\n",
      "Wall time: 1 ms\n"
     ]
    }
   ],
   "source": [
    "%%time\n",
    "filename = 'c:/data/test.MIG.0.h5'\n",
    "print(filename)\n",
    "sgydata = h5py.File(filename)"
   ]
  },
  {
   "cell_type": "code",
   "execution_count": 4,
   "metadata": {
    "collapsed": true
   },
   "outputs": [],
   "source": [
    "traces = sgydata['Traces']\n",
    "traces_dask = da.from_array(traces,chunks=(101,101,151))\n"
   ]
  },
  {
   "cell_type": "code",
   "execution_count": 15,
   "metadata": {},
   "outputs": [
    {
     "ename": "IndexError",
     "evalue": "Too many indices for array",
     "output_type": "error",
     "traceback": [
      "\u001b[1;31m---------------------------------------------------------------------------\u001b[0m",
      "\u001b[1;31mIndexError\u001b[0m                                Traceback (most recent call last)",
      "\u001b[1;32m<ipython-input-15-c1a52af54a6b>\u001b[0m in \u001b[0;36m<module>\u001b[1;34m()\u001b[0m\n\u001b[1;32m----> 1\u001b[1;33m \u001b[0mtraces_dask\u001b[0m\u001b[1;33m[\u001b[0m\u001b[1;36m1\u001b[0m\u001b[1;33m,\u001b[0m\u001b[1;36m1\u001b[0m\u001b[1;33m,\u001b[0m\u001b[1;36m1\u001b[0m\u001b[1;33m]\u001b[0m\u001b[1;33m[\u001b[0m\u001b[1;36m0\u001b[0m\u001b[1;33m]\u001b[0m\u001b[1;33m\u001b[0m\u001b[0m\n\u001b[0m\u001b[0;32m      2\u001b[0m \u001b[1;33m\u001b[0m\u001b[0m\n\u001b[0;32m      3\u001b[0m \u001b[1;33m\u001b[0m\u001b[0m\n",
      "\u001b[1;32m~\\Anaconda3\\lib\\site-packages\\dask\\array\\core.py\u001b[0m in \u001b[0;36m__getitem__\u001b[1;34m(self, index)\u001b[0m\n\u001b[0;32m   1233\u001b[0m             \u001b[1;32mreturn\u001b[0m \u001b[0mself\u001b[0m\u001b[1;33m\u001b[0m\u001b[0m\n\u001b[0;32m   1234\u001b[0m \u001b[1;33m\u001b[0m\u001b[0m\n\u001b[1;32m-> 1235\u001b[1;33m         \u001b[0mdsk\u001b[0m\u001b[1;33m,\u001b[0m \u001b[0mchunks\u001b[0m \u001b[1;33m=\u001b[0m \u001b[0mslice_array\u001b[0m\u001b[1;33m(\u001b[0m\u001b[0mout\u001b[0m\u001b[1;33m,\u001b[0m \u001b[0mself\u001b[0m\u001b[1;33m.\u001b[0m\u001b[0mname\u001b[0m\u001b[1;33m,\u001b[0m \u001b[0mself\u001b[0m\u001b[1;33m.\u001b[0m\u001b[0mchunks\u001b[0m\u001b[1;33m,\u001b[0m \u001b[0mindex\u001b[0m\u001b[1;33m)\u001b[0m\u001b[1;33m\u001b[0m\u001b[0m\n\u001b[0m\u001b[0;32m   1236\u001b[0m \u001b[1;33m\u001b[0m\u001b[0m\n\u001b[0;32m   1237\u001b[0m         \u001b[0mdsk2\u001b[0m \u001b[1;33m=\u001b[0m \u001b[0msharedict\u001b[0m\u001b[1;33m.\u001b[0m\u001b[0mmerge\u001b[0m\u001b[1;33m(\u001b[0m\u001b[0mself\u001b[0m\u001b[1;33m.\u001b[0m\u001b[0mdask\u001b[0m\u001b[1;33m,\u001b[0m \u001b[1;33m(\u001b[0m\u001b[0mout\u001b[0m\u001b[1;33m,\u001b[0m \u001b[0mdsk\u001b[0m\u001b[1;33m)\u001b[0m\u001b[1;33m)\u001b[0m\u001b[1;33m\u001b[0m\u001b[0m\n",
      "\u001b[1;32m~\\Anaconda3\\lib\\site-packages\\dask\\array\\slicing.py\u001b[0m in \u001b[0;36mslice_array\u001b[1;34m(out_name, in_name, blockdims, index)\u001b[0m\n\u001b[0;32m    158\u001b[0m \u001b[1;33m\u001b[0m\u001b[0m\n\u001b[0;32m    159\u001b[0m     \u001b[1;31m# Pass down to next function\u001b[0m\u001b[1;33m\u001b[0m\u001b[1;33m\u001b[0m\u001b[0m\n\u001b[1;32m--> 160\u001b[1;33m     \u001b[0mdsk_out\u001b[0m\u001b[1;33m,\u001b[0m \u001b[0mbd_out\u001b[0m \u001b[1;33m=\u001b[0m \u001b[0mslice_with_newaxes\u001b[0m\u001b[1;33m(\u001b[0m\u001b[0mout_name\u001b[0m\u001b[1;33m,\u001b[0m \u001b[0min_name\u001b[0m\u001b[1;33m,\u001b[0m \u001b[0mblockdims\u001b[0m\u001b[1;33m,\u001b[0m \u001b[0mindex\u001b[0m\u001b[1;33m)\u001b[0m\u001b[1;33m\u001b[0m\u001b[0m\n\u001b[0m\u001b[0;32m    161\u001b[0m \u001b[1;33m\u001b[0m\u001b[0m\n\u001b[0;32m    162\u001b[0m     \u001b[0mbd_out\u001b[0m \u001b[1;33m=\u001b[0m \u001b[0mtuple\u001b[0m\u001b[1;33m(\u001b[0m\u001b[0mmap\u001b[0m\u001b[1;33m(\u001b[0m\u001b[0mtuple\u001b[0m\u001b[1;33m,\u001b[0m \u001b[0mbd_out\u001b[0m\u001b[1;33m)\u001b[0m\u001b[1;33m)\u001b[0m\u001b[1;33m\u001b[0m\u001b[0m\n",
      "\u001b[1;32m~\\Anaconda3\\lib\\site-packages\\dask\\array\\slicing.py\u001b[0m in \u001b[0;36mslice_with_newaxes\u001b[1;34m(out_name, in_name, blockdims, index)\u001b[0m\n\u001b[0;32m    180\u001b[0m \u001b[1;33m\u001b[0m\u001b[0m\n\u001b[0;32m    181\u001b[0m     \u001b[1;31m# Pass down and do work\u001b[0m\u001b[1;33m\u001b[0m\u001b[1;33m\u001b[0m\u001b[0m\n\u001b[1;32m--> 182\u001b[1;33m     \u001b[0mdsk\u001b[0m\u001b[1;33m,\u001b[0m \u001b[0mblockdims2\u001b[0m \u001b[1;33m=\u001b[0m \u001b[0mslice_wrap_lists\u001b[0m\u001b[1;33m(\u001b[0m\u001b[0mout_name\u001b[0m\u001b[1;33m,\u001b[0m \u001b[0min_name\u001b[0m\u001b[1;33m,\u001b[0m \u001b[0mblockdims\u001b[0m\u001b[1;33m,\u001b[0m \u001b[0mindex2\u001b[0m\u001b[1;33m)\u001b[0m\u001b[1;33m\u001b[0m\u001b[0m\n\u001b[0m\u001b[0;32m    183\u001b[0m \u001b[1;33m\u001b[0m\u001b[0m\n\u001b[0;32m    184\u001b[0m     \u001b[1;32mif\u001b[0m \u001b[0mwhere_none\u001b[0m\u001b[1;33m:\u001b[0m\u001b[1;33m\u001b[0m\u001b[0m\n",
      "\u001b[1;32m~\\Anaconda3\\lib\\site-packages\\dask\\array\\slicing.py\u001b[0m in \u001b[0;36mslice_wrap_lists\u001b[1;34m(out_name, in_name, blockdims, index)\u001b[0m\n\u001b[0;32m    220\u001b[0m                for i in index)\n\u001b[0;32m    221\u001b[0m     \u001b[1;32mif\u001b[0m \u001b[1;32mnot\u001b[0m \u001b[0mlen\u001b[0m\u001b[1;33m(\u001b[0m\u001b[0mblockdims\u001b[0m\u001b[1;33m)\u001b[0m \u001b[1;33m==\u001b[0m \u001b[0mlen\u001b[0m\u001b[1;33m(\u001b[0m\u001b[0mindex\u001b[0m\u001b[1;33m)\u001b[0m\u001b[1;33m:\u001b[0m\u001b[1;33m\u001b[0m\u001b[0m\n\u001b[1;32m--> 222\u001b[1;33m         \u001b[1;32mraise\u001b[0m \u001b[0mIndexError\u001b[0m\u001b[1;33m(\u001b[0m\u001b[1;34m\"Too many indices for array\"\u001b[0m\u001b[1;33m)\u001b[0m\u001b[1;33m\u001b[0m\u001b[0m\n\u001b[0m\u001b[0;32m    223\u001b[0m \u001b[1;33m\u001b[0m\u001b[0m\n\u001b[0;32m    224\u001b[0m     \u001b[1;32mfor\u001b[0m \u001b[0mbd_size\u001b[0m\u001b[1;33m,\u001b[0m \u001b[0mi\u001b[0m \u001b[1;32min\u001b[0m \u001b[0mzip\u001b[0m\u001b[1;33m(\u001b[0m\u001b[0mshape\u001b[0m\u001b[1;33m,\u001b[0m \u001b[0mindex\u001b[0m\u001b[1;33m)\u001b[0m\u001b[1;33m:\u001b[0m\u001b[1;33m\u001b[0m\u001b[0m\n",
      "\u001b[1;31mIndexError\u001b[0m: Too many indices for array"
     ]
    }
   ],
   "source": [
    "traces_dask[1,1,1]\n",
    "\n",
    "\n"
   ]
  },
  {
   "cell_type": "code",
   "execution_count": 5,
   "metadata": {},
   "outputs": [
    {
     "name": "stdout",
     "output_type": "stream",
     "text": [
      "Wall time: 0 ns\n"
     ]
    }
   ],
   "source": [
    "%%time\n",
    "Kmean = np.zeros((101, 101,151))\n",
    "Kgaus = np.zeros((101, 101,151))\n",
    "Kmax = np.zeros((101, 101,151))"
   ]
  },
  {
   "cell_type": "code",
   "execution_count": 7,
   "metadata": {},
   "outputs": [
    {
     "name": "stdout",
     "output_type": "stream",
     "text": [
      "finished time =  8   took 41.62723088264465 sec\n",
      "Wall time: 41.6 s\n"
     ]
    }
   ],
   "source": [
    "%%time\n",
    "from dask import delayed\n",
    "\n",
    "data = np.zeros((9, 3))\n",
    "\n",
    "tm = 75\n",
    "smp = 8\n",
    "for tm in range(8,9):\n",
    "    strttm = time.time()\n",
    "    for ln_idx in range(1, 100):\n",
    "        for tr_idx in range(1, 100):\n",
    "            i = 0\n",
    "\n",
    "            for pln in range(-1, 2):\n",
    "                for ptr in range(-1, 2):\n",
    "                    #print(ln_idx,tr_idx)\n",
    "                    mdpnt = sgydata['Traces'][ln_idx, tr_idx, tm-8:tm+8]\n",
    "                    obspnt = sgydata['Traces'][ln_idx + pln, tr_idx + ptr, tm-8:tm+8]\n",
    "                    corr = np.correlate(mdpnt, obspnt, \"same\")\n",
    "                    #print (ln_idx,tr_idx,np.argmax(corr))\n",
    "\n",
    "                    data[i] = [pln, ptr, np.argmax(corr)]\n",
    "                    i += 1\n",
    "\n",
    "            A = np.c_[np.ones(data.shape[0]), data[:, :2], np.prod(data[:, :2], axis=1), data[:, :2] ** 2]\n",
    "            C, _, _, _ = scipy.linalg.lstsq(A, data[:, 2])\n",
    "            f, d, e, c, a, b = C\n",
    "            Kmean[ln_idx, tr_idx,tm] = (a * (1 + e ** 2) - c * d * e + b * (1 + d ** 2)) / (1 + d ** 2 + e ** 2) ** (3 / 2)\n",
    "            Kgaus[ln_idx, tr_idx, tm] = (4 * a * b - c ** 2) / (1 + d ** 2 + e ** 2) ** 2\n",
    "            Kmax[ln_idx, tr_idx, tm] = Kmean[ln_idx, tr_idx, tm] + (Kmean[ln_idx, tr_idx, tm] ** 2 - Kgaus[ln_idx, tr_idx, tm]) ** .5\n",
    "\n",
    "\n",
    "            #print(tm,ln_idx, tr_idx, Kmean[ln_idx, tr_idx,tm],runtime)\n",
    "    runtime = time.time() - strttm\n",
    "    print (\"finished time = \", tm, \"  took\", runtime, \"sec\")\n"
   ]
  },
  {
   "cell_type": "code",
   "execution_count": null,
   "metadata": {
    "collapsed": true
   },
   "outputs": [],
   "source": []
  },
  {
   "cell_type": "code",
   "execution_count": 7,
   "metadata": {},
   "outputs": [
    {
     "name": "stdout",
     "output_type": "stream",
     "text": [
      "finished time =  8   took 41.62723088264465 sec\n",
      "Wall time: 41.6 s\n"
     ]
    }
   ],
   "source": [
    "%%time\n",
    "from dask import delayed\n",
    "\n",
    "data = np.zeros((9, 3))\n",
    "\n",
    "tm = 75\n",
    "smp = 8\n",
    "for tm in range(8,9):\n",
    "    strttm = time.time()\n",
    "    for ln_idx in range(1, 100):\n",
    "        for tr_idx in range(1, 100):\n",
    "            i = 0\n",
    "\n",
    "            for pln in range(-1, 2):\n",
    "                for ptr in range(-1, 2):\n",
    "                    #print(ln_idx,tr_idx)\n",
    "                    mdpnt = sgydata['Traces'][ln_idx, tr_idx, tm-8:tm+8]\n",
    "                    obspnt = sgydata['Traces'][ln_idx + pln, tr_idx + ptr, tm-8:tm+8]\n",
    "                    corr = np.correlate(mdpnt, obspnt, \"same\")\n",
    "                    #print (ln_idx,tr_idx,np.argmax(corr))\n",
    "\n",
    "                    data[i] = [pln, ptr, np.argmax(corr)]\n",
    "                    i += 1\n",
    "\n",
    "            A = np.c_[np.ones(data.shape[0]), data[:, :2], np.prod(data[:, :2], axis=1), data[:, :2] ** 2]\n",
    "            C, _, _, _ = scipy.linalg.lstsq(A, data[:, 2])\n",
    "            f, d, e, c, a, b = C\n",
    "            Kmean[ln_idx, tr_idx,tm] = (a * (1 + e ** 2) - c * d * e + b * (1 + d ** 2)) / (1 + d ** 2 + e ** 2) ** (3 / 2)\n",
    "            Kgaus[ln_idx, tr_idx, tm] = (4 * a * b - c ** 2) / (1 + d ** 2 + e ** 2) ** 2\n",
    "            Kmax[ln_idx, tr_idx, tm] = Kmean[ln_idx, tr_idx, tm] + (Kmean[ln_idx, tr_idx, tm] ** 2 - Kgaus[ln_idx, tr_idx, tm]) ** .5\n",
    "\n",
    "\n",
    "            #print(tm,ln_idx, tr_idx, Kmean[ln_idx, tr_idx,tm],runtime)\n",
    "    runtime = time.time() - strttm\n",
    "    print (\"finished time = \", tm, \"  took\", runtime, \"sec\")\n"
   ]
  }
 ],
 "metadata": {
  "anaconda-cloud": {},
  "kernelspec": {
   "display_name": "Python [default]",
   "language": "python",
   "name": "python3"
  },
  "language_info": {
   "codemirror_mode": {
    "name": "ipython",
    "version": 3
   },
   "file_extension": ".py",
   "mimetype": "text/x-python",
   "name": "python",
   "nbconvert_exporter": "python",
   "pygments_lexer": "ipython3",
   "version": "3.5.2"
  }
 },
 "nbformat": 4,
 "nbformat_minor": 2
}
